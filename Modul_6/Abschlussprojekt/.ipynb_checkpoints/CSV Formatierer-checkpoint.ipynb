{
 "cells": [
  {
   "cell_type": "code",
   "execution_count": 7,
   "id": "focused-interstate",
   "metadata": {},
   "outputs": [
    {
     "name": "stdout",
     "output_type": "stream",
     "text": [
      "Bitte geben Sie den Namen einer csv Datei als absoluten Dateipfad an: Zeitschriften Doubletten_140219.csv\n"
     ]
    }
   ],
   "source": [
    "#import der csv library in das Script. Ermöglicht vereinfachte Verarbeitung von CSV Dateien\n",
    "import csv\n",
    "inputfile = input (\"Bitte geben Sie den Namen einer csv Datei als absoluten Dateipfad an: \")\n",
    "#Festlegend er Outputfile Parameter\n",
    "outputfile = open ('./Zeitschriften-formatiert.csv','w')\n",
    "#schreibe die Überschriften für die Spalten gemäß API Definition von WooCommerce\n",
    "outputfile.write('\"Name\",\"Description\",\"Published\",\"Categories\",\"SKU\",\"Stock\",\"Regular Price\"\\r\\n')\n",
    "outputfile.close()\n",
    "#Öffne Outputfile um es zu beschreiben\n",
    "outputfile = open ('./Zeitschriften-formatiert.csv','a')"
   ]
  },
  {
   "cell_type": "code",
   "execution_count": 8,
   "id": "powered-hampshire",
   "metadata": {},
   "outputs": [],
   "source": [
    "#Lese die Alte manuell erstellte CSV Liste ein und formatiere sie entsprechend der oben festgelegten Überschriften\n",
    "with open(inputfile) as f:\n",
    "    reader = csv.DictReader(f)\n",
    "    for row in reader:\n",
    "        name = row['Zeitschriftentitel']\n",
    "        issn = row['ISSN']\n",
    "        sprache=row['Sprache']\n",
    "        publisher=row['Herausgeber / Körperschaft']\n",
    "        ausgabe=row['Dubletten']\n",
    "        if (name != \"\"):\n",
    "            outputfile.write('\"'+name+'\"'+\",\"'\"'\"Herausgeber: \"+publisher+\" ISSN: \"+issn+\" Sprache: \"+sprache+\" Ausgabe: \"+ausgabe+'\",\"1\",\"Zeitschriften\",'+issn+\" \"+ausgabe+',1,0\\r\\n')"
   ]
  },
  {
   "cell_type": "code",
   "execution_count": 9,
   "id": "sapphire-subscription",
   "metadata": {},
   "outputs": [],
   "source": [
    "#schließe das Outputfile\n",
    "outputfile.close()"
   ]
  },
  {
   "cell_type": "code",
   "execution_count": null,
   "id": "sacred-sequence",
   "metadata": {},
   "outputs": [],
   "source": []
  }
 ],
 "metadata": {
  "kernelspec": {
   "display_name": "Python 3",
   "language": "python",
   "name": "python3"
  },
  "language_info": {
   "codemirror_mode": {
    "name": "ipython",
    "version": 3
   },
   "file_extension": ".py",
   "mimetype": "text/x-python",
   "name": "python",
   "nbconvert_exporter": "python",
   "pygments_lexer": "ipython3",
   "version": "3.8.10"
  }
 },
 "nbformat": 4,
 "nbformat_minor": 5
}
