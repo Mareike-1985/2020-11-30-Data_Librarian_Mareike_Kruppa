{
 "cells": [
  {
   "cell_type": "code",
   "execution_count": 9,
   "metadata": {},
   "outputs": [],
   "source": [
    "#import der libraries für die woocommerce API sowie der csv library\n",
    "from woocommerce import API\n",
    "import csv"
   ]
  },
  {
   "cell_type": "code",
   "execution_count": 10,
   "metadata": {},
   "outputs": [],
   "source": [
    "csv_spalten= ['name','description','id','sku','stock','purchasable', 'stock_quantity', 'date_on_sale_from_gmt', 'date_on_sale_to', 'manage_stock', 'rating_count', 'variations', 'virtual', 'related_ids', 'date_created_gmt', 'total_sales', 'date_modified', 'download_expiry', 'grouped_products', 'purchase_note', 'shipping_class', 'price', 'date_modified_gmt', 'shipping_taxable', 'average_rating', 'attributes', 'on_sale', 'downloads', 'slug', 'tax_class', 'default_attributes', 'upsell_ids', 'shipping_required', 'short_description', 'description', 'tax_status', '_links', 'name', 'regular_price', 'featured', 'sold_individually', 'categories', 'catalog_visibility', 'reviews_allowed', 'price_html', 'backorders', 'button_text', 'tags', 'menu_order', 'meta_data', 'sale_price', 'type', 'status', 'permalink', 'weight', 'backorders_allowed', 'external_url', 'stock_status', 'low_stock_amount', 'backordered', 'cross_sell_ids', 'store', 'parent_id', 'downloadable', 'sku', 'id', 'date_on_sale_to_gmt', 'date_created', 'dimensions', 'images', 'date_on_sale_from', 'download_limit', 'shipping_class_id']"
   ]
  },
  {
   "cell_type": "code",
   "execution_count": 11,
   "metadata": {},
   "outputs": [],
   "source": [
    "#woocommerce API initialisieren\n",
    "wcapi = API(\n",
    "    url=\"http://192.168.179.18\",\n",
    "    consumer_key=\"ck_c6fd214c8762237fb583c6a1cc67d60028e93aac\",\n",
    "    consumer_secret=\"cs_b4562a3e66d67daa8a33e385ccf3cf4778ef3ac9\",\n",
    "    version=\"wc/v3\"\n",
    ")"
   ]
  },
  {
   "cell_type": "code",
   "execution_count": 12,
   "metadata": {},
   "outputs": [
    {
     "name": "stdout",
     "output_type": "stream",
     "text": [
      "Done!\n"
     ]
    }
   ],
   "source": [
    "#Zähler für Seite des API Calls definieren\n",
    "i=1\n",
    "#Schreibe die Überschriften in das CSV File\n",
    "with open('Export_Dublettenbestand.csv', 'w') as csvfile:\n",
    "    writer = csv.DictWriter(csvfile, fieldnames=csv_spalten)   \n",
    "    writer.writeheader()\n",
    "#Schreibe Daten im anhängen Modus. Abfragen gegen die API liefern maximal 100 Ergebnisse.\n",
    "#Daher Schleifenkonstruktion um durch die Pages zu laufen.\n",
    "with open('Export_Dublettenbestand.csv', 'a') as csvfile:\n",
    "    writer = csv.DictWriter(csvfile, fieldnames=csv_spalten)\n",
    "    #Prüfe ob Abfrage Ergebnis liefert\n",
    "    while len(wcapi.get(\"products\", params={\"page\": i, \"per_page\": 100}).json()) > 0:\n",
    "        #Hole Daten der aktuellen API Page und schreibe in Datei\n",
    "        dict_data=wcapi.get(\"products\", params={\"page\": i, \"per_page\": 100}).json()\n",
    "        for data in dict_data:\n",
    "            writer.writerow(data)\n",
    "        #Erhöhe Seitenzähler\n",
    "        i= i+1\n",
    "#Schreibe Hinweis auf Abschluss des Programms        \n",
    "print (\"Done!\")"
   ]
  },
  {
   "cell_type": "code",
   "execution_count": null,
   "metadata": {},
   "outputs": [],
   "source": []
  },
  {
   "cell_type": "code",
   "execution_count": null,
   "metadata": {},
   "outputs": [],
   "source": []
  }
 ],
 "metadata": {
  "kernelspec": {
   "display_name": "Python 3",
   "language": "python",
   "name": "python3"
  },
  "language_info": {
   "codemirror_mode": {
    "name": "ipython",
    "version": 3
   },
   "file_extension": ".py",
   "mimetype": "text/x-python",
   "name": "python",
   "nbconvert_exporter": "python",
   "pygments_lexer": "ipython3",
   "version": "3.8.5"
  }
 },
 "nbformat": 4,
 "nbformat_minor": 5
}
