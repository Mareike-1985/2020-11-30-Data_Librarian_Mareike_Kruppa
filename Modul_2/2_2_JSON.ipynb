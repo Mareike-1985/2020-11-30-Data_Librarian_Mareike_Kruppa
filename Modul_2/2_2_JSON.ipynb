{
 "cells": [
  {
   "cell_type": "code",
   "execution_count": 1,
   "metadata": {},
   "outputs": [],
   "source": [
    "inputfile= open ('./tag_security.xml','r')\n",
    "data=inputfile.read()\n",
    "AnzahlBuch=data.count(\"</b:Source>\")\n",
    "inputfile.close()\n",
    "inputfile= open ('./tag_security.xml','r')\n",
    "outputfile=open('./bibsonomy_to_solr.json','w')\n",
    "outputfile.write(\"[\\n\")\n",
    "outputfile.close()\n",
    "outputfile=open('./bibsonomy_to_solr.json','a')\n",
    "Zaehler=0\n",
    "printer=0\n",
    "printed=0"
   ]
  },
  {
   "cell_type": "code",
   "execution_count": 2,
   "metadata": {},
   "outputs": [],
   "source": [
    "    for newline in inputfile:\n",
    "        # newline = inputfile.readline()\n",
    "        #print(newline)\n",
    "        \n",
    "        Titel=\"\"\n",
    "        Jahr=\"\"\n",
    "        Quelle=\"\"\n",
    "        Autoren=\"\"\n",
    "        Editoren=\"\"\n",
    "        ISBN=\"\"\n",
    "        Herausgeber=\"\"\n",
    "        Autor = \"\"\n",
    "        Editor = \"\"\n",
    "        Publikation = newline [newline.find(\"<b:Source>\")+10:newline.find(\"</b:Source>\")] \n",
    "        Publikation = Publikation.replace('\"','')\n",
    "        Zaehler = Zaehler+1\n",
    "        printer=0\n",
    "        if Publikation !=\"\":            \n",
    "            if(printed==1 and Zaehler<AnzahlBuch-1):\n",
    "                outputfile.write(\",\\n\")\n",
    "            printed=0\n",
    "            if Publikation.find(\"<b:Year>\") != -1:\n",
    "                printer+=1\n",
    "                Jahr = Publikation [Publikation.find(\"<b:Year>\")+8:Publikation.rfind(\"</b:Year>\")]\n",
    "            if Publikation.find(\"<b:SourceType>\") != -1:\n",
    "                printer+=1\n",
    "                Quelle = Publikation [Publikation.find(\"<b:SourceType>\")+14:Publikation.rfind(\"</b:SourceType>\")]\n",
    "            if Publikation.find(\"<b:Title>\") != -1:\n",
    "                printer+=1\n",
    "                Titel = Publikation [Publikation.find(\"<b:Title>\")+9:Publikation.rfind(\"</b:Title>\")]\n",
    "            if Publikation.find(\"<b:Author>\") != -1:\n",
    "                printer+=1\n",
    "                Autoren = Publikation [Publikation.find(\"<b:Author>\")+10:Publikation.rfind(\"</b:Author>\")]\n",
    "            if Publikation.find(\"<b:Editor>\") != -1:\n",
    "                printer+=1\n",
    "                Editoren = Publikation [Publikation.find(\"<b:Editor>\")+10:Publikation.rfind(\"</b:Editor>\")]\n",
    "            if newline.find(\"<b:StandardNumber>\") != -1:\n",
    "                printer+=8\n",
    "                ISBN = Publikation [Publikation.find(\"<b:StandardNumber>\")+18:Publikation.rfind(\"</b:StandardNumber>\")]\n",
    "            if newline.find(\"<b:Publisher>\") != -1:\n",
    "                printer+=1\n",
    "                Herausgeber = Publikation [Publikation.find(\"<b:Publisher>\")+13:Publikation.rfind(\"</b:Publisher>\")]\n",
    "            \n",
    "            #Formatierung von Autoren und Editoren   \n",
    "            for person in range(0,Autoren.count(\"<b:Person>\")): \n",
    "                if Autoren.find(\"<b:Middle>\") != -1:\n",
    "                    Autor += Autoren[Autoren.find(\"<b:First>\")+9:Autoren.find(\"</b:First>\")]+\" \"+Autoren[Autoren.find(\"<b:Middle>\")+10:Autoren.find(\"</b:Middle>\")]+\" \"+Autoren[Autoren.find(\"<b:Last>\")+8:Autoren.find(\"</b:Last>\")]+\",\"\n",
    "                else:\n",
    "                    Autor += Autoren[Autoren.find(\"<b:First>\")+9:Autoren.find(\"</b:First>\")]+\" \"+Autoren[Autoren.find(\"<b:Last>\")+8:Autoren.find(\"</b:Last>\")]+\",\"\n",
    "                Autoren = Autoren[Autoren.find(\"</b:Person>\")+11:-1]\n",
    "            Autoren = Autor[0:-2]+\"\\n\"\n",
    "            for person in range(0,Editoren.count(\"<b:Person>\")): \n",
    "                if Editoren.find(\"<b:Middle>\") != -1:\n",
    "                    Editor += Editoren[Editoren.find(\"<b:First>\")+9:Editoren.find(\"</b:First>\")]+\" \"+Editoren[Editoren.find(\"<b:Middle>\")+10:Editoren.find(\"</b:Middle>\")]+\" \"+Editoren[Editoren.find(\"<b:Last>\")+8:Editoren.find(\"</b:Last>\")]+\",\"                \n",
    "                else:\n",
    "                    Editor += Editoren[Editoren.find(\"<b:First>\")+9:Editoren.find(\"</b:First>\")]+\" \"+Editoren[Editoren.find(\"<b:Last>\")+8:Editoren.find(\"</b:Last>\")]+\",\"\n",
    "                Editoren = Editoren[Editoren.find(\"</b:Person>\")+11:-1]  \n",
    "                 \n",
    "            Autoren = Autor[0:-2]\n",
    "            Editoren = Editor[0:-2]\n",
    "            if (printer>=10 and Zaehler<AnzahlBuch and Publikation !=\"\"):\n",
    "                printed=1\n",
    "                outputfile.write(\"{\\n\"'\"id\" : \"'+ISBN.strip()+'\",\\n''\"author\" : \"'+Autoren.strip()+'\",\\n''\"editors\" : \"'+Editoren.strip()+'\",\\n''\"title\" : \"'+Titel.strip()+'\",\\n''\"publisher\" : \"'+Herausgeber.strip()+'\",\\n''\"year\" : \"'+Jahr.strip()+'\",\\n''\"type\" : \"'+Quelle.strip()+'\"\\n'\"}\")     \n",
    "            elif Zaehler==AnzahlBuch:\n",
    "                printed=1\n",
    "                outputfile.write(\"\\n\") "
   ]
  },
  {
   "cell_type": "code",
   "execution_count": 3,
   "metadata": {},
   "outputs": [],
   "source": [
    "outputfile.write(\"]\")\n",
    "outputfile.close()        \n",
    "inputfile.close()"
   ]
  },
  {
   "cell_type": "code",
   "execution_count": null,
   "metadata": {},
   "outputs": [],
   "source": []
  },
  {
   "cell_type": "code",
   "execution_count": null,
   "metadata": {},
   "outputs": [],
   "source": []
  }
 ],
 "metadata": {
  "kernelspec": {
   "display_name": "Python 3",
   "language": "python",
   "name": "python3"
  },
  "language_info": {
   "codemirror_mode": {
    "name": "ipython",
    "version": 3
   },
   "file_extension": ".py",
   "mimetype": "text/x-python",
   "name": "python",
   "nbconvert_exporter": "python",
   "pygments_lexer": "ipython3",
   "version": "3.8.5"
  }
 },
 "nbformat": 4,
 "nbformat_minor": 4
}
