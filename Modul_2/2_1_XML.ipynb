{
 "cells": [
  {
   "cell_type": "code",
   "execution_count": 80,
   "metadata": {},
   "outputs": [],
   "source": [
    "inputfile= open ('./tag_security.xml','r')\n",
    "outputfile=open('./bibsonomy.xml','w')\n",
    "outputfile.write(\"<Publikationen>\\n\")\n",
    "outputfile.close()\n",
    "outputfile=open('./bibsonomy.xml','a')"
   ]
  },
  {
   "cell_type": "code",
   "execution_count": 81,
   "metadata": {},
   "outputs": [],
   "source": [
    "    for newline in inputfile:\n",
    "        # newline = inputfile.readline()\n",
    "        #print(newline)\n",
    "        printer=0\n",
    "        Titel=\"\"\n",
    "        Jahr=\"\"\n",
    "        Quelle=\"\"\n",
    "        Autoren=\"\"\n",
    "        Editoren=\"\"\n",
    "        ISBN=\"\"\n",
    "        Herausgeber=\"\"\n",
    "        if newline.find(\"<b:Year>\") != -1:\n",
    "            printer+=1\n",
    "            Jahr = newline [newline.find(\"<b:Year>\")+8:newline.rfind(\"</b:Year>\")]\n",
    "        if newline.find(\"<b:SourceType>\") != -1:\n",
    "            printer+=1\n",
    "            Quelle = newline [newline.find(\"<b:SourceType>\")+14:newline.rfind(\"</b:SourceType>\")]\n",
    "        if newline.find(\"<b:Title>\") != -1:\n",
    "            printer+=1\n",
    "            Titel = newline [newline.find(\"<b:Title>\")+9:newline.rfind(\"</b:Title>\")]\n",
    "        if newline.find(\"<b:Author>\") != -1:\n",
    "            Autoren = newline [newline.find(\"<b:Author>\")+10:newline.rfind(\"</b:Author>\")]\n",
    "        if newline.find(\"<b:Editor>\") != -1:\n",
    "            Editoren = newline [newline.find(\"<b:Editor>\")+10:newline.rfind(\"</b:Editor>\")]\n",
    "        if newline.find(\"<b:StandardNumber>\") != -1:\n",
    "            ISBN = newline [newline.find(\"<b:StandardNumber>\")+18:newline.rfind(\"</b:StandardNumber>\")]\n",
    "        if newline.find(\"<b:Publisher>\") != -1:\n",
    "            Herausgeber = newline [newline.find(\"<b:Publisher>\")+13:newline.rfind(\"</b:Publisher>\")]\n",
    "        if printer>=0:\n",
    "            outputfile.write(\"<Publikation><id>\"+ISBN+\"</id><Autor>\"+Autoren+\"</Autor><Editoren>\"+Editoren+\"</Editoren><Titel>\"+Titel+\"</Titel><Herausgeber>\"+Herausgeber+\"</Herausgeber><Jahr>\"+Jahr+\"</Jahr><Quelle>\"+Quelle+\"</quelle></Publikation>\\n\")"
   ]
  },
  {
   "cell_type": "code",
   "execution_count": 82,
   "metadata": {},
   "outputs": [],
   "source": [
    "outputfile.write(\"</Publikationen>\")\n",
    "outputfile.close()        \n",
    "inputfile.close()"
   ]
  }
 ],
 "metadata": {
  "kernelspec": {
   "display_name": "Python 3",
   "language": "python",
   "name": "python3"
  },
  "language_info": {
   "codemirror_mode": {
    "name": "ipython",
    "version": 3
   },
   "file_extension": ".py",
   "mimetype": "text/x-python",
   "name": "python",
   "nbconvert_exporter": "python",
   "pygments_lexer": "ipython3",
   "version": "3.8.5"
  }
 },
 "nbformat": 4,
 "nbformat_minor": 4
}
