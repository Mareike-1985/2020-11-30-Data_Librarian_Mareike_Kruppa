{
 "cells": [
  {
   "cell_type": "code",
   "execution_count": 1,
   "metadata": {},
   "outputs": [],
   "source": [
    "inputfile= open ('./tag_security.xml','r')\n",
    "outputfile=open('./bibsonomy.xml','w')\n",
    "outputfile.write(\"<Publikationen>\\n\")\n",
    "outputfile.close()\n",
    "outputfile=open('./bibsonomy.xml','a')"
   ]
  },
  {
   "cell_type": "code",
   "execution_count": 2,
   "metadata": {},
   "outputs": [],
   "source": [
    "    for newline in inputfile:\n",
    "        # newline = inputfile.readline()\n",
    "        #print(newline)\n",
    "        printer=0\n",
    "        Titel=\"\"\n",
    "        Jahr=\"\"\n",
    "        Quelle=\"\"\n",
    "        Autoren=\"\"\n",
    "        Editoren=\"\"\n",
    "        ISBN=\"\"\n",
    "        Herausgeber=\"\"\n",
    "        if newline.find(\"<b:Year>\") != -1:\n",
    "            printer+=1\n",
    "            Jahr = newline [newline.find(\"<b:Year>\")+8:newline.rfind(\"</b:Year>\")]\n",
    "        if newline.find(\"<b:SourceType>\") != -1:\n",
    "            printer+=1\n",
    "            Quelle = newline [newline.find(\"<b:SourceType>\")+14:newline.rfind(\"</b:SourceType>\")]\n",
    "        if newline.find(\"<b:Title>\") != -1:\n",
    "            printer+=1\n",
    "            Titel = newline [newline.find(\"<b:Title>\")+9:newline.rfind(\"</b:Title>\")]\n",
    "        if newline.find(\"<b:Author>\") != -1:\n",
    "            Autoren = newline [newline.find(\"<b:Author>\")+10:newline.rfind(\"</b:Author>\")]\n",
    "        if newline.find(\"<b:Editor>\") != -1:\n",
    "            Editoren = newline [newline.find(\"<b:Editor>\")+10:newline.rfind(\"</b:Editor>\")]\n",
    "        if newline.find(\"<b:StandardNumber>\") != -1:\n",
    "            ISBN = newline [newline.find(\"<b:StandardNumber>\")+18:newline.rfind(\"</b:StandardNumber>\")]\n",
    "        if newline.find(\"<b:Publisher>\") != -1:\n",
    "            Herausgeber = newline [newline.find(\"<b:Publisher>\")+13:newline.rfind(\"</b:Publisher>\")]\n",
    "        if printer>=0:\n",
    "            outputfile.write(\"<Publikation><id>\"+ISBN+\"</id><Autor>\"+Autoren+\"</Autor><Editoren>\"+Editoren+\"</Editoren><Titel>\"+Titel+\"</Titel><Herausgeber>\"+Herausgeber+\"</Herausgeber><Jahr>\"+Jahr+\"</Jahr><Quelle>\"+Quelle+\"</quelle></Publikation>\\n\")"
   ]
  },
  {
   "cell_type": "code",
   "execution_count": 3,
   "metadata": {},
   "outputs": [],
   "source": [
    "outputfile.write(\"</Publikationen>\")\n",
    "outputfile.close()        \n",
    "inputfile.close()"
   ]
  },
  {
   "cell_type": "markdown",
   "metadata": {},
   "source": [
    "[Mandy] Ich habe hier ein paar Fragen zu deiner Lösung:\n",
    "- Woher kommt die Datei `tag_security.xml`, mit der du hier arbeitest? Eigentlich bestand die Aufgabe ja darin, ein JSON-Objekt in XML zu überführen. Nicht XML in XML. (Was auch ungleich schwieriger ist.)\n",
    "- Was bezweckt die Variable `printer` in deiner Schleife? Ich glaube zu verstehen, dass du damit versucht hast zu ermitteln, ob du Daten gefunden hast, die du in deine Ausgabedatei schreiben kannst. Da du sie allerdings initial auf 0 setzt, und in der if-Abfrage auf >=0 prüfst, trifft diese Bedingung immer zu. Wolltest du eigentlich auf >0 prüfen?\n",
    "\n",
    "Insgesamt scheint deine Lösung auf den ersten Blick zu funktionieren, da du tatsächlich keine Fehler und auch einen Output erhältst, der wie XML anmutet. Das aber nur auf den ersten Blick. Das Grundproblem besteht darin (und daher habe ich auch das Lesen von XML ausgeklammert), dass du einen XML-*Input* nicht einfach so zeilenweise lesen kannst. Hier handelt es sich ja um eine verschachtelte Struktur, die man auch als solche behandeln muss. Das ist aber wie gesagt komplexer, und auch der Grund, warum ich in meinem Screencast gar nicht erst versucht habe, JSON manuell einzulesen (was ja auch hierarchisch ist), sondern auf das json Modul zurückgegriffen habe. Auch für XML lesen gibt es entsprechend Module.\n",
    "Dein Ergebnis ist leider auf den zweiten Blick gar kein valides XML.\n",
    "\n",
    "Trotzdem kann man sehen, dass du dir da viele Gedanken gemacht hast, beispielsweise bei deinem Vorgehen, den Teilstring zwischen Start- und Endtag zu finden, auch mit der `rfind`-Methode, die du selbst herausgefunden hast. Nur wie gesagt, aufgrund der hierarchischen Struktur von XML kann dieses Vorgehen so nicht zuverlässig funktionieren."
   ]
  }
 ],
 "metadata": {
  "kernelspec": {
   "display_name": "Python 3",
   "language": "python",
   "name": "python3"
  },
  "language_info": {
   "codemirror_mode": {
    "name": "ipython",
    "version": 3
   },
   "file_extension": ".py",
   "mimetype": "text/x-python",
   "name": "python",
   "nbconvert_exporter": "python",
   "pygments_lexer": "ipython3",
   "version": "3.8.5"
  }
 },
 "nbformat": 4,
 "nbformat_minor": 4
}
